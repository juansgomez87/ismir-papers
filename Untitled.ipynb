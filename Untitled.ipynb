{
 "cells": [
  {
   "cell_type": "code",
   "execution_count": 1,
   "id": "37ecd4fc-dc8e-4957-8faf-2d644efbcd36",
   "metadata": {},
   "outputs": [],
   "source": [
    "import pandas as pd"
   ]
  },
  {
   "cell_type": "code",
   "execution_count": 2,
   "id": "5d4687c0-979d-4243-b526-a268ffc8aa60",
   "metadata": {},
   "outputs": [],
   "source": [
    "df = pd.read_csv(\"data/ismir_all_papers.csv\")"
   ]
  },
  {
   "cell_type": "code",
   "execution_count": 3,
   "id": "b08cbab4-fe91-42a7-ae0c-8b135a2ec12e",
   "metadata": {},
   "outputs": [
    {
     "name": "stdout",
     "output_type": "stream",
     "text": [
      "518\n",
      "808\n",
      "1567\n",
      "1876\n"
     ]
    }
   ],
   "source": [
    "for index, item in enumerate(df[\"first_country\"]):\n",
    "    if item == \"Unknown\":\n",
    "        print(index)"
   ]
  },
  {
   "cell_type": "code",
   "execution_count": 6,
   "id": "0a9150cb-590e-4903-8255-02b7004c3842",
   "metadata": {},
   "outputs": [
    {
     "data": {
      "text/plain": [
       "Unnamed: 0                                                                   3\n",
       "Authors                                                       Stefan A Baumann\n",
       "Title                        Deeper Convolutional Neural Networks and Broad...\n",
       "Year                                                                      2021\n",
       "Link                                    https://doi.org/10.5281/zenodo.5624477\n",
       "Authors with Affiliations       Stefan Andreas Baumann+Unknown>Unknown>Unknown\n",
       "Abstract                     In recent years, complex convolutional neural ...\n",
       "first_country                                                          Unknown\n",
       "first_aff_cat                                                          Unknown\n",
       "first_aff_cat_UN                                                       Unknown\n",
       "title_tsne_2d                                          [-16.997095, -19.94935]\n",
       "abstract_tsne_2d                                       [-32.793495, 2.8844273]\n",
       "title_tsne_3d                                 [-4.682941, 9.371394, 21.950514]\n",
       "abstract_tsne_3d                           [-2.8107831, 1.8119242, -20.891073]\n",
       "title_umap_2d                                              [9.842614, 8.51407]\n",
       "abstract_umap_2d                                            [8.680366, 5.5339]\n",
       "title_umap_3d                               [11.4438095, 14.130578, 1.3074821]\n",
       "abstract_umap_3d                                [7.934394, 4.98249, 1.7505362]\n",
       "Name: 1567, dtype: object"
      ]
     },
     "execution_count": 6,
     "metadata": {},
     "output_type": "execute_result"
    }
   ],
   "source": [
    "df.iloc[1567]"
   ]
  },
  {
   "cell_type": "code",
   "execution_count": null,
   "id": "83a90b49-df95-4dc4-868f-4cc37f4ab599",
   "metadata": {},
   "outputs": [],
   "source": []
  }
 ],
 "metadata": {
  "kernelspec": {
   "display_name": "Python 3 (ipykernel)",
   "language": "python",
   "name": "python3"
  },
  "language_info": {
   "codemirror_mode": {
    "name": "ipython",
    "version": 3
   },
   "file_extension": ".py",
   "mimetype": "text/x-python",
   "name": "python",
   "nbconvert_exporter": "python",
   "pygments_lexer": "ipython3",
   "version": "3.11.11"
  }
 },
 "nbformat": 4,
 "nbformat_minor": 5
}
