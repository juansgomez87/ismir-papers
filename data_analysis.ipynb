{
 "cells": [
  {
   "cell_type": "code",
   "execution_count": 1,
   "id": "4d52d1cf-0844-418a-8c80-5e377390cc44",
   "metadata": {},
   "outputs": [],
   "source": [
    "import pandas as pd\n",
    "import numpy as np\n",
    "import plotly.express as px\n",
    "import geopandas as gpd\n",
    "import country_converter as coco\n",
    "from matplotlib import pyplot as plt\n",
    "from itertools import cycle, islice"
   ]
  },
  {
   "cell_type": "code",
   "execution_count": null,
   "id": "9232deb3-25ea-40c4-9792-a80b8929d1da",
   "metadata": {},
   "outputs": [],
   "source": [
    "dfISMIR = pd.read_csv(\"data/full_data.tsv\", delimiter=\"\\t\")\n",
    "\n",
    "EDITIONS = [\"2000\", \"2001\", \"2002\", \"2003\", \"2004\",\n",
    "            \"2005\", \"2006\", \"2007\", \"2008\", \"2009\", \n",
    "            \"2010\", \"2011\", \"2012\", \"2013\", \"2014\",\n",
    "            \"2015\", \"2016\", \"2017\", \"2018\", \"2019\",\n",
    "            \"2020\", \"2021\", \"2022\", \"2023\", \"2024\"]\n",
    "\n",
    "COLOR_LIST = ['darkblue', 'mediumblue', 'cornflowerblue', \n",
    "              'darkred', 'red', 'tomato', 'lightsalmon']\n",
    "\n"
   ]
  },
  {
   "cell_type": "code",
   "execution_count": null,
   "id": "b61a89b7-98a1-4929-84c0-07a4c313a539",
   "metadata": {},
   "outputs": [],
   "source": []
  }
 ],
 "metadata": {
  "kernelspec": {
   "display_name": "Python 3 (ipykernel)",
   "language": "python",
   "name": "python3"
  },
  "language_info": {
   "codemirror_mode": {
    "name": "ipython",
    "version": 3
   },
   "file_extension": ".py",
   "mimetype": "text/x-python",
   "name": "python",
   "nbconvert_exporter": "python",
   "pygments_lexer": "ipython3",
   "version": "3.11.10"
  }
 },
 "nbformat": 4,
 "nbformat_minor": 5
}
